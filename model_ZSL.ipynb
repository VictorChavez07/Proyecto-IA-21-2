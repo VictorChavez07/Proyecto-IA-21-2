{
 "cells": [
  {
   "cell_type": "markdown",
   "id": "25b2d85c",
   "metadata": {},
   "source": [
    "# Zero Shot Learning"
   ]
  },
  {
   "cell_type": "markdown",
   "id": "ab10093b",
   "metadata": {},
   "source": [
    "####   Dataset extraido de https://cvml.ist.ac.at/AwA2/?ref=https://githubhelp.com"
   ]
  },
  {
   "cell_type": "code",
   "execution_count": 66,
   "id": "883b5844",
   "metadata": {},
   "outputs": [
    {
     "name": "stdout",
     "output_type": "stream",
     "text": [
      "                  1\n",
      "0          antelope\n",
      "1      grizzly+bear\n",
      "2      killer+whale\n",
      "3            beaver\n",
      "4         dalmatian\n",
      "5       persian+cat\n",
      "6             horse\n",
      "7   german+shepherd\n",
      "8        blue+whale\n",
      "9       siamese+cat\n",
      "10            skunk\n",
      "11             mole\n",
      "12            tiger\n",
      "13     hippopotamus\n",
      "14          leopard\n",
      "15            moose\n",
      "16    spider+monkey\n",
      "17   humpback+whale\n",
      "18         elephant\n",
      "19          gorilla\n",
      "20               ox\n",
      "21              fox\n",
      "22            sheep\n",
      "23             seal\n",
      "24       chimpanzee\n",
      "25          hamster\n",
      "26         squirrel\n",
      "27       rhinoceros\n",
      "28           rabbit\n",
      "29              bat\n",
      "30          giraffe\n",
      "31             wolf\n",
      "32        chihuahua\n",
      "33              rat\n",
      "34           weasel\n",
      "35            otter\n",
      "36          buffalo\n",
      "37            zebra\n",
      "38      giant+panda\n",
      "39             deer\n",
      "40           bobcat\n",
      "41              pig\n",
      "42             lion\n",
      "43            mouse\n",
      "44       polar+bear\n",
      "45           collie\n",
      "46           walrus\n",
      "47          raccoon\n",
      "48              cow\n",
      "49          dolphin\n"
     ]
    }
   ],
   "source": [
    "#Dataset\n",
    "import pandas as pd\n",
    "df = pd.read_csv(\n",
    "    'Animals_with_Attributes2/classes.txt', sep=\"\\t\",header=None)\n",
    "df=df.drop([0], axis=1)\n",
    "print(df)"
   ]
  },
  {
   "cell_type": "markdown",
   "id": "39b6ceec",
   "metadata": {},
   "source": [
    "# Data - Training"
   ]
  },
  {
   "cell_type": "code",
   "execution_count": 24,
   "id": "ffa5787c",
   "metadata": {},
   "outputs": [
    {
     "name": "stdout",
     "output_type": "stream",
     "text": [
      "                  0\n",
      "0          antelope\n",
      "1      grizzly+bear\n",
      "2      killer+whale\n",
      "3            beaver\n",
      "4         dalmatian\n",
      "5             horse\n",
      "6   german+shepherd\n",
      "7        blue+whale\n",
      "8       siamese+cat\n",
      "9             skunk\n",
      "10             mole\n",
      "11            tiger\n",
      "12            moose\n",
      "13    spider+monkey\n",
      "14         elephant\n",
      "15          gorilla\n",
      "16               ox\n",
      "17              fox\n",
      "18            sheep\n",
      "19          hamster\n",
      "20         squirrel\n",
      "21       rhinoceros\n",
      "22           rabbit\n",
      "23              bat\n",
      "24          giraffe\n",
      "25             wolf\n",
      "26        chihuahua\n",
      "27           weasel\n",
      "28            otter\n",
      "29          buffalo\n",
      "30            zebra\n",
      "31             deer\n",
      "32           bobcat\n",
      "33             lion\n",
      "34            mouse\n",
      "35       polar+bear\n",
      "36           collie\n",
      "37           walrus\n",
      "38              cow\n",
      "39          dolphin\n"
     ]
    }
   ],
   "source": [
    "#Dataset-clases de entrenamiento\n",
    "import pandas as pd\n",
    "df = pd.read_csv(\n",
    "    'Animals_with_Attributes2/trainclasses.txt',header=None)\n",
    "#df=df.drop([0], axis=1)\n",
    "print(df)"
   ]
  },
  {
   "cell_type": "markdown",
   "id": "d2e1130a",
   "metadata": {},
   "source": [
    "# Data - Zero Shot Learning"
   ]
  },
  {
   "cell_type": "code",
   "execution_count": 23,
   "id": "538fb8e2",
   "metadata": {},
   "outputs": [
    {
     "name": "stdout",
     "output_type": "stream",
     "text": [
      "                0\n",
      "0      chimpanzee\n",
      "1     giant+panda\n",
      "2         leopard\n",
      "3     persian+cat\n",
      "4             pig\n",
      "5    hippopotamus\n",
      "6  humpback+whale\n",
      "7         raccoon\n",
      "8             rat\n",
      "9            seal\n"
     ]
    }
   ],
   "source": [
    "#Dataset-clases de prueba\n",
    "import pandas as pd\n",
    "df = pd.read_csv(\n",
    "    'Animals_with_Attributes2/testclasses.txt',header=None)\n",
    "print(df)"
   ]
  },
  {
   "cell_type": "markdown",
   "id": "dfba6306",
   "metadata": {},
   "source": [
    "# Atributos de clase"
   ]
  },
  {
   "cell_type": "code",
   "execution_count": 34,
   "id": "9b64e5d3",
   "metadata": {},
   "outputs": [
    {
     "name": "stdout",
     "output_type": "stream",
     "text": [
      "           1\n",
      "0      black\n",
      "1      white\n",
      "2       blue\n",
      "3      brown\n",
      "4       gray\n",
      "..       ...\n",
      "80     smart\n",
      "81     group\n",
      "82  solitary\n",
      "83  nestspot\n",
      "84  domestic\n",
      "\n",
      "[85 rows x 1 columns]\n",
      "Cantidad de atributos de cada clase:  85\n"
     ]
    }
   ],
   "source": [
    "#Caracteristicas de cada clase\n",
    "import pandas as pd\n",
    "df = pd.read_csv(\n",
    "    'Animals_with_Attributes2/predicates.txt', sep=\"\\t\",header=None)\n",
    "df=df.drop([0], axis=1)\n",
    "print(df)\n",
    "print(\"Cantidad de atributos de cada clase: \",len(df))"
   ]
  },
  {
   "cell_type": "markdown",
   "id": "3a189ad7",
   "metadata": {},
   "source": [
    "# Relacion de clases-atributos"
   ]
  },
  {
   "cell_type": "code",
   "execution_count": 37,
   "id": "1ebf8419",
   "metadata": {},
   "outputs": [
    {
     "name": "stdout",
     "output_type": "stream",
     "text": [
      "Relación de clases y atributos\n"
     ]
    },
    {
     "data": {
      "image/png": "[encoded data removed]",
      "text/plain": [
       "<IPython.core.display.Image object>"
      ]
     },
     "execution_count": 37,
     "metadata": {},
     "output_type": "execute_result"
    }
   ],
   "source": [
    "print(\"Relación de clases y atributos\")\n",
    "from IPython.display import Image\n",
    "Image(\"Animals_with_Attributes2/predicate-matrix.png\")\n",
    "\n",
    "#![title](Animals_with_Attributes2/predicate-matrix.png)"
   ]
  },
  {
   "cell_type": "markdown",
   "id": "2b5ed573",
   "metadata": {},
   "source": [
    "# Preprocesamiento"
   ]
  },
  {
   "cell_type": "code",
   "execution_count": 86,
   "id": "249f2431",
   "metadata": {},
   "outputs": [],
   "source": [
    "import argparse\n",
    "from PIL import Image\n",
    "import numpy as np\n",
    "import cv2\n",
    "import matplotlib.pyplot as plt\n",
    "import time\n",
    "import copy\n",
    "import torch\n",
    "import torch.nn as nn\n",
    "import torchvision\n",
    "from torch.utils import data\n",
    "import torchvision.transforms as transforms\n",
    "from torchvision import datasets, models\n",
    "import os\n",
    "import sys"
   ]
  },
  {
   "cell_type": "code",
   "execution_count": 58,
   "id": "ea85abd7",
   "metadata": {},
   "outputs": [
    {
     "name": "stdout",
     "output_type": "stream",
     "text": [
      "['antelope', 'bat', 'beaver', 'blue+whale', 'bobcat', 'buffalo', 'chihuahua', 'collie', 'cow', 'dalmatian', 'deer', 'dolphin', 'elephant', 'fox', 'german+shepherd', 'giraffe', 'gorilla', 'grizzly+bear', 'hamster', 'horse', 'killer+whale', 'lion', 'mole', 'moose', 'mouse', 'otter', 'ox', 'polar+bear', 'rabbit', 'rhinoceros', 'sheep', 'siamese+cat', 'skunk', 'spider+monkey', 'squirrel', 'tiger', 'walrus', 'weasel', 'wolf', 'zebra']\n",
      "['chimpanzee', 'giant+panda', 'hippopotamus', 'humpback+whale', 'leopard', 'persian+cat', 'pig', 'raccoon', 'rat', 'seal']\n"
     ]
    }
   ],
   "source": [
    "#Preprocesamiento de la imagen para data de prueba y entrenamiento\n",
    "\n",
    "\n",
    "train_dataset = datasets.ImageFolder('Animals_with_Attributes2/JPEGImages/train',\n",
    "                              transform=transforms.Compose([\n",
    "                                  #transforms.RandomResizedCrop(224),\n",
    "                                  transforms.Resize(255),#dimensionamiento de la imagen\n",
    "                                  transforms.CenterCrop(224),#corte de 224x224\n",
    "                                  transforms.ToTensor(),\n",
    "                                  transforms.Normalize(mean=[0.485, 0.456, 0.406],\n",
    "                                                        std=[0.229, 0.224, 0.225])\n",
    "                                  ]))\n",
    "\n",
    "test_dataset = datasets.ImageFolder('Animals_with_Attributes2/JPEGImages/test',\n",
    "                              transform=transforms.Compose([\n",
    "                                  #transforms.RandomResizedCrop(224),\n",
    "                                  transforms.Resize(255),#dimensionamiento de la imagen\n",
    "                                  transforms.CenterCrop(224),#corte de 224x224\n",
    "                                  transforms.ToTensor(),\n",
    "                                  transforms.Normalize(mean=[0.485, 0.456, 0.406],\n",
    "                                                        std=[0.229, 0.224, 0.225])\n",
    "                                  ]))\n",
    "\n",
    "class_names_train = train_dataset.classes\n",
    "print(class_names_train)\n",
    "class_names_test = test_dataset.classes\n",
    "print(class_names_test)"
   ]
  },
  {
   "cell_type": "code",
   "execution_count": 62,
   "id": "47f1bbbe",
   "metadata": {},
   "outputs": [],
   "source": [
    "# Particionamos los subconjuntos en minibatches\n",
    "train_dataloader = torch.utils.data.DataLoader(train_dataset, batch_size=4, shuffle=True)#4 imagenes cada imagen, TRue random cada minibatch \n",
    "valid_dataloader = torch.utils.data.DataLoader(test_dataset, batch_size=4, shuffle=True)"
   ]
  },
  {
   "cell_type": "code",
   "execution_count": 63,
   "id": "5e285807",
   "metadata": {},
   "outputs": [
    {
     "name": "stderr",
     "output_type": "stream",
     "text": [
      "/home/ninja/anaconda3/lib/python3.8/site-packages/torch/cuda/__init__.py:52: UserWarning: CUDA initialization: CUDA unknown error - this may be due to an incorrectly set up environment, e.g. changing env variable CUDA_VISIBLE_DEVICES after program start. Setting the available devices to be zero. (Triggered internally at  /pytorch/c10/cuda/CUDAFunctions.cpp:115.)\n",
      "  return torch._C._cuda_getDeviceCount() > 0\n"
     ]
    }
   ],
   "source": [
    "#Escogemo el dispositivo cpu o gpu\n",
    "device = torch.device(\"cuda\" if torch.cuda.is_available() else \"cpu\")"
   ]
  },
  {
   "cell_type": "code",
   "execution_count": 87,
   "id": "37f895c3",
   "metadata": {},
   "outputs": [],
   "source": [
    "# Función de entrenamiento y validación\n",
    "def train_model(model, criterion, optimizer, scheduler, num_epochs = 25):\n",
    "    \n",
    "  best_model_wts = copy.deepcopy(model.state_dict())\n",
    "  best_acc = 0.0\n",
    "\n",
    "  rs = '------------------------------------------------------------------'\n",
    "  print('Epoch    Train-Loss   Train-Acc   Val-Loss    Val-Acc   Best')\n",
    "  print(rs)\n",
    "  \n",
    "  for epoch in range(num_epochs):\n",
    "    #print(f'Epoch {epoch}/{num_epochs-1}')\n",
    "    #print('-' * 10)\n",
    "    \n",
    "    # Entrenamiento\n",
    "    model.train()\n",
    "    \n",
    "    running_loss = 0.0\n",
    "    running_corrects = 0.0\n",
    "    \n",
    "    for inputs, labels in train_loader:\n",
    "      inputs = inputs.to(device)\n",
    "      labels = labels.to(device)\n",
    "      \n",
    "      optimizer.zero_grad()\n",
    "      \n",
    "      outputs = model(inputs)\n",
    "      _, preds = torch.max(outputs, 1)\n",
    "      loss = criterion(outputs, labels)\n",
    "        \n",
    "      loss.backward()\n",
    "      optimizer.step()\n",
    "      \n",
    "      running_loss += loss.item() * inputs.size(0)\n",
    "      running_corrects += torch.sum(preds == labels.data)\n",
    "    \n",
    "    result = {}\n",
    "    result['train_loss'] = running_loss /len(train_dataset)\n",
    "    result['train_acc'] = running_corrects.double() / len(train_dataset)\n",
    "      \n",
    "    #print(f'Train Loss: {epoch_loss:.4f} Acc: {epoch_acc:.4f}')\n",
    "\n",
    "    scheduler.step()\n",
    "    \n",
    "    # Validación \n",
    "    model.eval()\n",
    "    running_loss = 0.0\n",
    "    running_corrects = 0.0\n",
    "    \n",
    "    for inputs, labels in test_loader:\n",
    "      inputs = inputs.to(device)\n",
    "      labels = labels.to(device)\n",
    "        \n",
    "      with torch.set_grad_enabled(False):\n",
    "        outputs = model(inputs)\n",
    "        _, preds = torch.max(outputs, 1)\n",
    "        loss = criterion(outputs, labels)\n",
    "          \n",
    "      running_loss += loss.item() * inputs.size(0)\n",
    "      running_corrects += torch.sum(preds == labels.data)\n",
    "     \n",
    "    result['val_loss'] = running_loss /len(test_dataset)\n",
    "    result['val_acc'] = running_corrects.double() / len(test_dataset)\n",
    "    epoch_acc = result['val_acc']\n",
    "      \n",
    "    #print(f'Val Loss: {epoch_loss:.4f} Acc: {epoch_acc:.4f}')\n",
    "    st = '          '\n",
    "    if epoch_acc > best_acc:\n",
    "      best_acc = epoch_acc\n",
    "      best_model_wts = copy.deepcopy(model.state_dict())\n",
    "      st = '   ***    '\n",
    "        \n",
    "    print(\"%5d %11.4f %11.4f %11.4f %11.4f %s\" % (epoch, result['train_loss'], result['train_acc'], result['val_acc'], result['val_acc'], st))\n",
    "\n",
    "  print(rs)\n",
    "  \n",
    "  \n",
    "\n",
    "  model.load_state_dict(best_model_wts)\n",
    "  return model"
   ]
  },
  {
   "cell_type": "markdown",
   "id": "9fb42b27",
   "metadata": {},
   "source": [
    "# Definicion del modelo - Feature extraction"
   ]
  },
  {
   "cell_type": "markdown",
   "id": "ea0b3a81",
   "metadata": {},
   "source": [
    "Eliminaremos la ultima capa del modelo resnet, para pasar las caracteristicas por una funcion lamda"
   ]
  },
  {
   "cell_type": "code",
   "execution_count": 77,
   "id": "03e6d043",
   "metadata": {},
   "outputs": [
    {
     "data": {
      "text/plain": [
       "ResNet(\n",
       "  (conv1): Conv2d(3, 64, kernel_size=(7, 7), stride=(2, 2), padding=(3, 3), bias=False)\n",
       "  (bn1): BatchNorm2d(64, eps=1e-05, momentum=0.1, affine=True, track_running_stats=True)\n",
       "  (relu): ReLU(inplace=True)\n",
       "  (maxpool): MaxPool2d(kernel_size=3, stride=2, padding=1, dilation=1, ceil_mode=False)\n",
       "  (layer1): Sequential(\n",
       "    (0): BasicBlock(\n",
       "      (conv1): Conv2d(64, 64, kernel_size=(3, 3), stride=(1, 1), padding=(1, 1), bias=False)\n",
       "      (bn1): BatchNorm2d(64, eps=1e-05, momentum=0.1, affine=True, track_running_stats=True)\n",
       "      (relu): ReLU(inplace=True)\n",
       "      (conv2): Conv2d(64, 64, kernel_size=(3, 3), stride=(1, 1), padding=(1, 1), bias=False)\n",
       "      (bn2): BatchNorm2d(64, eps=1e-05, momentum=0.1, affine=True, track_running_stats=True)\n",
       "    )\n",
       "    (1): BasicBlock(\n",
       "      (conv1): Conv2d(64, 64, kernel_size=(3, 3), stride=(1, 1), padding=(1, 1), bias=False)\n",
       "      (bn1): BatchNorm2d(64, eps=1e-05, momentum=0.1, affine=True, track_running_stats=True)\n",
       "      (relu): ReLU(inplace=True)\n",
       "      (conv2): Conv2d(64, 64, kernel_size=(3, 3), stride=(1, 1), padding=(1, 1), bias=False)\n",
       "      (bn2): BatchNorm2d(64, eps=1e-05, momentum=0.1, affine=True, track_running_stats=True)\n",
       "    )\n",
       "  )\n",
       "  (layer2): Sequential(\n",
       "    (0): BasicBlock(\n",
       "      (conv1): Conv2d(64, 128, kernel_size=(3, 3), stride=(2, 2), padding=(1, 1), bias=False)\n",
       "      (bn1): BatchNorm2d(128, eps=1e-05, momentum=0.1, affine=True, track_running_stats=True)\n",
       "      (relu): ReLU(inplace=True)\n",
       "      (conv2): Conv2d(128, 128, kernel_size=(3, 3), stride=(1, 1), padding=(1, 1), bias=False)\n",
       "      (bn2): BatchNorm2d(128, eps=1e-05, momentum=0.1, affine=True, track_running_stats=True)\n",
       "      (downsample): Sequential(\n",
       "        (0): Conv2d(64, 128, kernel_size=(1, 1), stride=(2, 2), bias=False)\n",
       "        (1): BatchNorm2d(128, eps=1e-05, momentum=0.1, affine=True, track_running_stats=True)\n",
       "      )\n",
       "    )\n",
       "    (1): BasicBlock(\n",
       "      (conv1): Conv2d(128, 128, kernel_size=(3, 3), stride=(1, 1), padding=(1, 1), bias=False)\n",
       "      (bn1): BatchNorm2d(128, eps=1e-05, momentum=0.1, affine=True, track_running_stats=True)\n",
       "      (relu): ReLU(inplace=True)\n",
       "      (conv2): Conv2d(128, 128, kernel_size=(3, 3), stride=(1, 1), padding=(1, 1), bias=False)\n",
       "      (bn2): BatchNorm2d(128, eps=1e-05, momentum=0.1, affine=True, track_running_stats=True)\n",
       "    )\n",
       "  )\n",
       "  (layer3): Sequential(\n",
       "    (0): BasicBlock(\n",
       "      (conv1): Conv2d(128, 256, kernel_size=(3, 3), stride=(2, 2), padding=(1, 1), bias=False)\n",
       "      (bn1): BatchNorm2d(256, eps=1e-05, momentum=0.1, affine=True, track_running_stats=True)\n",
       "      (relu): ReLU(inplace=True)\n",
       "      (conv2): Conv2d(256, 256, kernel_size=(3, 3), stride=(1, 1), padding=(1, 1), bias=False)\n",
       "      (bn2): BatchNorm2d(256, eps=1e-05, momentum=0.1, affine=True, track_running_stats=True)\n",
       "      (downsample): Sequential(\n",
       "        (0): Conv2d(128, 256, kernel_size=(1, 1), stride=(2, 2), bias=False)\n",
       "        (1): BatchNorm2d(256, eps=1e-05, momentum=0.1, affine=True, track_running_stats=True)\n",
       "      )\n",
       "    )\n",
       "    (1): BasicBlock(\n",
       "      (conv1): Conv2d(256, 256, kernel_size=(3, 3), stride=(1, 1), padding=(1, 1), bias=False)\n",
       "      (bn1): BatchNorm2d(256, eps=1e-05, momentum=0.1, affine=True, track_running_stats=True)\n",
       "      (relu): ReLU(inplace=True)\n",
       "      (conv2): Conv2d(256, 256, kernel_size=(3, 3), stride=(1, 1), padding=(1, 1), bias=False)\n",
       "      (bn2): BatchNorm2d(256, eps=1e-05, momentum=0.1, affine=True, track_running_stats=True)\n",
       "    )\n",
       "  )\n",
       "  (layer4): Sequential(\n",
       "    (0): BasicBlock(\n",
       "      (conv1): Conv2d(256, 512, kernel_size=(3, 3), stride=(2, 2), padding=(1, 1), bias=False)\n",
       "      (bn1): BatchNorm2d(512, eps=1e-05, momentum=0.1, affine=True, track_running_stats=True)\n",
       "      (relu): ReLU(inplace=True)\n",
       "      (conv2): Conv2d(512, 512, kernel_size=(3, 3), stride=(1, 1), padding=(1, 1), bias=False)\n",
       "      (bn2): BatchNorm2d(512, eps=1e-05, momentum=0.1, affine=True, track_running_stats=True)\n",
       "      (downsample): Sequential(\n",
       "        (0): Conv2d(256, 512, kernel_size=(1, 1), stride=(2, 2), bias=False)\n",
       "        (1): BatchNorm2d(512, eps=1e-05, momentum=0.1, affine=True, track_running_stats=True)\n",
       "      )\n",
       "    )\n",
       "    (1): BasicBlock(\n",
       "      (conv1): Conv2d(512, 512, kernel_size=(3, 3), stride=(1, 1), padding=(1, 1), bias=False)\n",
       "      (bn1): BatchNorm2d(512, eps=1e-05, momentum=0.1, affine=True, track_running_stats=True)\n",
       "      (relu): ReLU(inplace=True)\n",
       "      (conv2): Conv2d(512, 512, kernel_size=(3, 3), stride=(1, 1), padding=(1, 1), bias=False)\n",
       "      (bn2): BatchNorm2d(512, eps=1e-05, momentum=0.1, affine=True, track_running_stats=True)\n",
       "    )\n",
       "  )\n",
       "  (avgpool): AdaptiveAvgPool2d(output_size=(1, 1))\n",
       ")"
      ]
     },
     "execution_count": 77,
     "metadata": {},
     "output_type": "execute_result"
    }
   ],
   "source": [
    "#Importamos un modelo previamente entrenado\n",
    "ft_model = models.resnet18(pretrained=True)\n",
    "\n",
    "#Mantenemos fijo la parte convolucional\n",
    "for param in ft_model.parameters():\n",
    "    param.requires_grad = False\n",
    "    \n",
    "del ft_model.fc\n",
    "ft_model.fc=lambda x:x\n",
    "\n",
    "#Veamos la composicion del modelo resnet\n",
    "#model.eval()\n",
    "\n",
    "#Veamos la composicion del modelo resnet modificado, notaremos que no cuanta con la capa fully conected\n",
    "ft_model.eval()"
   ]
  },
  {
   "cell_type": "code",
   "execution_count": 78,
   "id": "66d91778",
   "metadata": {},
   "outputs": [],
   "source": [
    "#Enviando el modelo al dispositivo\n",
    "ft_model = ft_model.to(device)\n",
    "ft_criterion = nn.CrossEntropyLoss()\n",
    "ft_optimizer = torch.optim.SGD(ft_model.parameters(), lr=0.001, momentum=0.9)\n",
    "ft_scheduler = torch.optim.lr_scheduler.StepLR(ft_optimizer, step_size=7, gamma=0.1)"
   ]
  },
  {
   "cell_type": "code",
   "execution_count": 89,
   "id": "ea3a4b42",
   "metadata": {},
   "outputs": [],
   "source": [
    "# Entrenamiento\n",
    "ft_model = train_model(ft_model, ft_criterion, ft_optimizer, ft_scheduler, num_epochs=25)"
   ]
  },
  {
   "cell_type": "markdown",
   "id": "83c2c332",
   "metadata": {},
   "source": [
    "# Prediccion de dataset de zero shot learning"
   ]
  },
  {
   "cell_type": "code",
   "execution_count": null,
   "id": "0ff37d58",
   "metadata": {},
   "outputs": [],
   "source": []
  },
  {
   "cell_type": "markdown",
   "id": "1d5b32ba",
   "metadata": {},
   "source": [
    "# Evaluacion de modelo"
   ]
  },
  {
   "cell_type": "code",
   "execution_count": 88,
   "id": "623e780c",
   "metadata": {},
   "outputs": [],
   "source": [
    "def get_hamming_dist(clase_actual, clase):\n",
    "  return np.sum(clase_actual != clase)\n",
    "\n",
    "def get_cosine_dist(clase_actual, clase):\n",
    "  return np.sum(clase_actual * clase) / np.sqrt(np.sum(curr_labels)) / np.sqrt(np.sum(clase))\n",
    "\n",
    "def get_euclidean_dist(clase_actual, clase):\n",
    "  return np.sqrt(np.sum((clase_actual - clase)**2))\n"
   ]
  }
 ],
 "metadata": {
  "kernelspec": {
   "display_name": "Python 3",
   "language": "python",
   "name": "python3"
  },
  "language_info": {
   "codemirror_mode": {
    "name": "ipython",
    "version": 3
   },
   "file_extension": ".py",
   "mimetype": "text/x-python",
   "name": "python",
   "nbconvert_exporter": "python",
   "pygments_lexer": "ipython3",
   "version": "3.8.8"
  }
 },
 "nbformat": 4,
 "nbformat_minor": 5
}
